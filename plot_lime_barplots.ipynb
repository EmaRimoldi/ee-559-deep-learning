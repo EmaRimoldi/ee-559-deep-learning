{
 "cells": [
  {
   "cell_type": "code",
   "execution_count": 4,
   "metadata": {},
   "outputs": [
    {
     "name": "stderr",
     "output_type": "stream",
     "text": [
      "/var/folders/md/82n605r10q141qbwz9zthf8h0000gn/T/ipykernel_58370/503559993.py:40: FutureWarning: \n",
      "\n",
      "Passing `palette` without assigning `hue` is deprecated and will be removed in v0.14.0. Assign the `y` variable to `hue` and set `legend=False` for the same effect.\n",
      "\n",
      "  sns.barplot(\n"
     ]
    },
    {
     "name": "stdout",
     "output_type": "stream",
     "text": [
      "Saved plot: ./results/plots/barplots/positive_pre_top_5.png\n"
     ]
    },
    {
     "name": "stderr",
     "output_type": "stream",
     "text": [
      "/var/folders/md/82n605r10q141qbwz9zthf8h0000gn/T/ipykernel_58370/503559993.py:40: FutureWarning: \n",
      "\n",
      "Passing `palette` without assigning `hue` is deprecated and will be removed in v0.14.0. Assign the `y` variable to `hue` and set `legend=False` for the same effect.\n",
      "\n",
      "  sns.barplot(\n"
     ]
    },
    {
     "name": "stdout",
     "output_type": "stream",
     "text": [
      "Saved plot: ./results/plots/barplots/negative_pre_top_5.png\n"
     ]
    },
    {
     "name": "stderr",
     "output_type": "stream",
     "text": [
      "/var/folders/md/82n605r10q141qbwz9zthf8h0000gn/T/ipykernel_58370/503559993.py:40: FutureWarning: \n",
      "\n",
      "Passing `palette` without assigning `hue` is deprecated and will be removed in v0.14.0. Assign the `y` variable to `hue` and set `legend=False` for the same effect.\n",
      "\n",
      "  sns.barplot(\n"
     ]
    },
    {
     "name": "stdout",
     "output_type": "stream",
     "text": [
      "Saved plot: ./results/plots/barplots/positive_post_top_5.png\n"
     ]
    },
    {
     "name": "stderr",
     "output_type": "stream",
     "text": [
      "/var/folders/md/82n605r10q141qbwz9zthf8h0000gn/T/ipykernel_58370/503559993.py:40: FutureWarning: \n",
      "\n",
      "Passing `palette` without assigning `hue` is deprecated and will be removed in v0.14.0. Assign the `y` variable to `hue` and set `legend=False` for the same effect.\n",
      "\n",
      "  sns.barplot(\n"
     ]
    },
    {
     "name": "stdout",
     "output_type": "stream",
     "text": [
      "Saved plot: ./results/plots/barplots/negative_post_top_5.png\n"
     ]
    },
    {
     "name": "stderr",
     "output_type": "stream",
     "text": [
      "/var/folders/md/82n605r10q141qbwz9zthf8h0000gn/T/ipykernel_58370/503559993.py:96: FutureWarning: \n",
      "\n",
      "Passing `palette` without assigning `hue` is deprecated and will be removed in v0.14.0. Assign the `y` variable to `hue` and set `legend=False` for the same effect.\n",
      "\n",
      "  sns.barplot(\n",
      "/var/folders/md/82n605r10q141qbwz9zthf8h0000gn/T/ipykernel_58370/503559993.py:96: FutureWarning: \n",
      "\n",
      "Passing `palette` without assigning `hue` is deprecated and will be removed in v0.14.0. Assign the `y` variable to `hue` and set `legend=False` for the same effect.\n",
      "\n",
      "  sns.barplot(\n"
     ]
    },
    {
     "name": "stdout",
     "output_type": "stream",
     "text": [
      "Saved comparison plot: ./results/plots/barplots/positive_pre_post_comparison_top_5.png\n"
     ]
    }
   ],
   "source": [
    "# In[ ]:\n",
    "%matplotlib inline\n",
    "\n",
    "import os\n",
    "import pickle\n",
    "import matplotlib.pyplot as plt\n",
    "import seaborn as sns\n",
    "\n",
    "# ────────────────────────────────────────────────────────────────────────────────\n",
    "# CONFIGURATION\n",
    "# ────────────────────────────────────────────────────────────────────────────────\n",
    "DATASETS = [\"dynahate\", \"hatecheck\"]\n",
    "TOP_X = 5\n",
    "\n",
    "def plot_single_lime_words(words_weights, title, top_x=TOP_X):\n",
    "    \"\"\"\n",
    "    Create a horizontal barplot of the top_x words by normalized weight.\n",
    "    Labels and title are in bold.\n",
    "    \"\"\"\n",
    "    sns.set(style=\"whitegrid\", context=\"talk\", font_scale=1.1)\n",
    "    top = words_weights[:top_x]\n",
    "    if not top:\n",
    "        raise ValueError(f\"No words to plot for '{title}'\")\n",
    "    words, weights = zip(*top)\n",
    "\n",
    "    fig, ax = plt.subplots(figsize=(8, 6))\n",
    "    palette = sns.color_palette(\"Blues\", len(weights))\n",
    "    sns.barplot(\n",
    "        x=list(weights),\n",
    "        y=list(words),\n",
    "        palette=palette,\n",
    "        edgecolor=\".2\",\n",
    "        ax=ax\n",
    "    )\n",
    "    ax.set_title(title, fontweight=\"bold\", fontsize=16)\n",
    "    ax.set_xlabel(\"Normalized Weight\", fontweight=\"bold\")\n",
    "    ax.set_ylabel(\"Word\", fontweight=\"bold\")\n",
    "    for label in ax.get_xticklabels() + ax.get_yticklabels():\n",
    "        label.set_fontweight(\"bold\")\n",
    "    plt.tight_layout()\n",
    "    return fig\n",
    "\n",
    "for ds in DATASETS:\n",
    "    # Paths to pickle files\n",
    "    PKL_FILES = {\n",
    "        \"positive_pre\":  f\"./results/positive_words_pre_FT_{ds}.pkl\",\n",
    "        \"negative_pre\":  f\"./results/negative_words_pre_FT_{ds}.pkl\",\n",
    "        \"positive_post\": f\"./results/positive_words_post_FT_{ds}.pkl\",\n",
    "        \"negative_post\": f\"./results/negative_words_post_FT_{ds}.pkl\",\n",
    "    }\n",
    "\n",
    "    # Output directory for this dataset\n",
    "    OUTPUT_DIR = f\"./results/{ds}/barplots\"\n",
    "    os.makedirs(OUTPUT_DIR, exist_ok=True)\n",
    "\n",
    "    # ────────────────────────────────────────────────────────────────────────────\n",
    "    # INDIVIDUAL BARPLOTS\n",
    "    # ────────────────────────────────────────────────────────────────────────────\n",
    "    for name, path in PKL_FILES.items():\n",
    "        if not os.path.isfile(path):\n",
    "            print(f\"Warning: file not found: {path}\")\n",
    "            continue\n",
    "\n",
    "        with open(path, \"rb\") as f:\n",
    "            words_weights = pickle.load(f)\n",
    "\n",
    "        cls = \"Hate\" if name.startswith(\"positive\") else \"No-Hate\"\n",
    "        stage = \"Pre-Fine-Tuning\" if \"pre\" in name else \"Post-Fine-Tuning\"\n",
    "        title = f\"Top {TOP_X} {cls} Words — {stage} ({ds})\"\n",
    "\n",
    "        fig = plot_single_lime_words(words_weights, title)\n",
    "        out_path = os.path.join(OUTPUT_DIR, f\"{ds}_{name}_top_{TOP_X}.png\")\n",
    "        fig.savefig(out_path, dpi=600)\n",
    "        plt.show()\n",
    "        plt.close(fig)\n",
    "        print(f\"Saved plot: {out_path}\")\n",
    "\n",
    "    # ────────────────────────────────────────────────────────────────────────────\n",
    "    # COMPARISON PLOT FOR POSITIVE PRE vs POST FINE-TUNING\n",
    "    # ────────────────────────────────────────────────────────────────────────────\n",
    "    # Load both pickle files\n",
    "    pre_path  = PKL_FILES[\"positive_pre\"]\n",
    "    post_path = PKL_FILES[\"positive_post\"]\n",
    "    if os.path.isfile(pre_path) and os.path.isfile(post_path):\n",
    "        with open(pre_path,  \"rb\") as f:\n",
    "            pos_pre  = pickle.load(f)\n",
    "        with open(post_path, \"rb\") as f:\n",
    "            pos_post = pickle.load(f)\n",
    "\n",
    "        pos_pre_top  = pos_pre[:TOP_X]\n",
    "        pos_post_top = pos_post[:TOP_X]\n",
    "\n",
    "        fig, axes = plt.subplots(1, 2, figsize=(16, 8))\n",
    "        for ax, data, subtitle in zip(\n",
    "            axes,\n",
    "            [pos_pre_top, pos_post_top],\n",
    "            [\"Pre-Fine-Tuning\", \"Post-Fine-Tuning\"]\n",
    "        ):\n",
    "            words, weights = zip(*data)\n",
    "            palette = sns.color_palette(\"Blues\", len(weights))\n",
    "            sns.barplot(\n",
    "                x=list(weights),\n",
    "                y=list(words),\n",
    "                palette=palette,\n",
    "                edgecolor=\".2\",\n",
    "                ax=ax\n",
    "            )\n",
    "            ax.set_title(f\"Top {TOP_X} Hate Words — {subtitle} ({ds})\", fontweight=\"bold\", fontsize=16)\n",
    "            ax.set_xlabel(\"Normalized Weight\", fontweight=\"bold\")\n",
    "            ax.set_ylabel(\"Word\", fontweight=\"bold\")\n",
    "            for label in ax.get_xticklabels() + ax.get_yticklabels():\n",
    "                label.set_fontweight(\"bold\")\n",
    "\n",
    "        plt.tight_layout()\n",
    "        comparison_path = os.path.join(\n",
    "            OUTPUT_DIR,\n",
    "            f\"{ds}_positive_pre_post_comparison_top_{TOP_X}.png\"\n",
    "        )\n",
    "        fig.savefig(comparison_path, dpi=600)\n",
    "        plt.show()\n",
    "        plt.close(fig)\n",
    "        print(f\"Saved comparison plot: {comparison_path}\")\n",
    "    else:\n",
    "        print(f\"Skipping comparison for {ds}: missing pickle files\")\n"
   ]
  },
  {
   "cell_type": "code",
   "execution_count": null,
   "metadata": {},
   "outputs": [],
   "source": []
  }
 ],
 "metadata": {
  "kernelspec": {
   "display_name": "base",
   "language": "python",
   "name": "python3"
  },
  "language_info": {
   "codemirror_mode": {
    "name": "ipython",
    "version": 3
   },
   "file_extension": ".py",
   "mimetype": "text/x-python",
   "name": "python",
   "nbconvert_exporter": "python",
   "pygments_lexer": "ipython3",
   "version": "3.12.8"
  }
 },
 "nbformat": 4,
 "nbformat_minor": 2
}
